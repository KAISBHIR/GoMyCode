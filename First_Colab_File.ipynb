{
  "nbformat": 4,
  "nbformat_minor": 0,
  "metadata": {
    "colab": {
      "provenance": [],
      "collapsed_sections": [
        "vpt7DUNScDgN"
      ],
      "mount_file_id": "1x4N8lgMhKhaiH20mOKm_lLgHURoAZu2V",
      "authorship_tag": "ABX9TyP6+/UaB2bX3FYEb4QPkDY7",
      "include_colab_link": true
    },
    "kernelspec": {
      "name": "python3",
      "display_name": "Python 3"
    },
    "language_info": {
      "name": "python"
    }
  },
  "cells": [
    {
      "cell_type": "markdown",
      "metadata": {
        "id": "view-in-github",
        "colab_type": "text"
      },
      "source": [
        "<a href=\"https://colab.research.google.com/github/KAISBHIR/GoMyCode/blob/main/First_Colab_File.ipynb\" target=\"_parent\"><img src=\"https://colab.research.google.com/assets/colab-badge.svg\" alt=\"Open In Colab\"/></a>"
      ]
    },
    {
      "cell_type": "code",
      "execution_count": null,
      "metadata": {
        "id": "6cI7RRe_mmyW"
      },
      "outputs": [],
      "source": [
        "a=10\n",
        "b=5\n",
        "\n",
        "resulta = a/b"
      ]
    },
    {
      "cell_type": "code",
      "source": [
        "a=2\n",
        "b=6\n",
        "\n",
        "a*b"
      ],
      "metadata": {
        "id": "6LkQZMYbrG6E",
        "colab": {
          "base_uri": "https://localhost:8080/"
        },
        "outputId": "bf8d301d-2e30-4cbc-aac3-5eb78ec61b96"
      },
      "execution_count": null,
      "outputs": [
        {
          "output_type": "execute_result",
          "data": {
            "text/plain": [
              "12"
            ]
          },
          "metadata": {},
          "execution_count": 2
        }
      ]
    },
    {
      "cell_type": "markdown",
      "source": [
        "# Matrix (Array) : Array is a Data Type (array ma3neha tableau saghroun)"
      ],
      "metadata": {
        "id": "vpt7DUNScDgN"
      }
    },
    {
      "cell_type": "code",
      "source": [
        "# Commentaire\n",
        "matrix = [[1,2,3],   # size = 3x3  # Initialisation d'une VARIABLE de type 'array'\n",
        "          [4,5,6],    # matrix or array is defined by '[[ ]]'\n",
        "          [7,8,9]]\n",
        "\n",
        "print(\"Voila ma Matrice : \" , matrix)    # affichage de la variable"
      ],
      "metadata": {
        "colab": {
          "base_uri": "https://localhost:8080/"
        },
        "id": "NU3uYWWQa6Zs",
        "outputId": "675a6044-a870-4f3e-96d0-08570a335c3b"
      },
      "execution_count": null,
      "outputs": [
        {
          "output_type": "stream",
          "name": "stdout",
          "text": [
            "Voila ma Matrice :  [[1, 2, 3], [4, 5, 6], [7, 8, 9]]\n"
          ]
        }
      ]
    },
    {
      "cell_type": "code",
      "source": [
        "import numpy as np  # numpy : bibliotheque des statistics & les matrices (arrays) # np : alias ou abbréviation\n",
        "\n",
        "matrix = np.array([[1, 2, 3],\n",
        "                   [4, 5, 6],\n",
        "                   [7, 8, 9],\n",
        "                   [10, 11, 12]])\n",
        "\n",
        "mean_value = np.mean(matrix)\n",
        "print(\"La Moyenne est égale à : \" , mean_value)"
      ],
      "metadata": {
        "colab": {
          "base_uri": "https://localhost:8080/"
        },
        "id": "1N8g22BXa6fC",
        "outputId": "50537bd4-4926-45c4-94dc-afbc64020115"
      },
      "execution_count": null,
      "outputs": [
        {
          "output_type": "stream",
          "name": "stdout",
          "text": [
            "La Moyenne est égale à :  6.5\n"
          ]
        }
      ]
    },
    {
      "cell_type": "code",
      "source": [
        "median_value = np.median(matrix)\n",
        "print(\"La Médiane est égale à : \" , median_value)"
      ],
      "metadata": {
        "colab": {
          "base_uri": "https://localhost:8080/"
        },
        "id": "8XjLeNgqa6jc",
        "outputId": "40163427-202c-4b1c-a4bc-e842a46e7740"
      },
      "execution_count": null,
      "outputs": [
        {
          "output_type": "stream",
          "name": "stdout",
          "text": [
            "La Médiane est égale à :  6.5\n"
          ]
        }
      ]
    },
    {
      "cell_type": "code",
      "source": [
        "matrix_2 = np.array([[0, 3, 6],\n",
        "                     [9, 12, 15]])\n",
        "\n",
        "matrix_2"
      ],
      "metadata": {
        "colab": {
          "base_uri": "https://localhost:8080/"
        },
        "id": "hF46z-cTyerF",
        "outputId": "97ed354f-5072-4e66-9cfb-8382acbe885f"
      },
      "execution_count": null,
      "outputs": [
        {
          "output_type": "execute_result",
          "data": {
            "text/plain": [
              "array([[ 0,  3,  6],\n",
              "       [ 9, 12, 15]])"
            ]
          },
          "metadata": {},
          "execution_count": 6
        }
      ]
    },
    {
      "cell_type": "markdown",
      "source": [
        "# List"
      ],
      "metadata": {
        "id": "TTbhFIOHsGgI"
      }
    },
    {
      "cell_type": "code",
      "source": [
        "lista = [-2.5, 99, 0, 10.5, 2024]\n",
        "lista"
      ],
      "metadata": {
        "colab": {
          "base_uri": "https://localhost:8080/"
        },
        "id": "OsQOEYSya6om",
        "outputId": "38f6f921-c2b0-49d0-bcd9-28167629f956"
      },
      "execution_count": null,
      "outputs": [
        {
          "output_type": "execute_result",
          "data": {
            "text/plain": [
              "[-2.5, 99, 0, 10.5, 2024]"
            ]
          },
          "metadata": {},
          "execution_count": 7
        }
      ]
    },
    {
      "cell_type": "code",
      "source": [
        "max(lista)"
      ],
      "metadata": {
        "colab": {
          "base_uri": "https://localhost:8080/"
        },
        "id": "sKthdTZ8kMwS",
        "outputId": "62eac7eb-124c-4158-b82c-33ec10090911"
      },
      "execution_count": null,
      "outputs": [
        {
          "output_type": "execute_result",
          "data": {
            "text/plain": [
              "2024"
            ]
          },
          "metadata": {},
          "execution_count": 8
        }
      ]
    },
    {
      "cell_type": "code",
      "source": [
        "min(lista)"
      ],
      "metadata": {
        "colab": {
          "base_uri": "https://localhost:8080/"
        },
        "id": "mw_u8-GRkM8q",
        "outputId": "53dc3bd7-f80b-4c43-b7c9-2e5859cad025"
      },
      "execution_count": null,
      "outputs": [
        {
          "output_type": "execute_result",
          "data": {
            "text/plain": [
              "-2.5"
            ]
          },
          "metadata": {},
          "execution_count": 9
        }
      ]
    },
    {
      "cell_type": "code",
      "source": [
        "sum(lista)"
      ],
      "metadata": {
        "colab": {
          "base_uri": "https://localhost:8080/"
        },
        "id": "cu0k4YIAkiA3",
        "outputId": "4f34c592-fa09-48cd-c4b3-1c32490be4bd"
      },
      "execution_count": null,
      "outputs": [
        {
          "output_type": "execute_result",
          "data": {
            "text/plain": [
              "2131.0"
            ]
          },
          "metadata": {},
          "execution_count": 10
        }
      ]
    },
    {
      "cell_type": "code",
      "source": [
        "#index : indice  # l'indexation en python débute de 0 pas de 1\n",
        "lista[0]"
      ],
      "metadata": {
        "colab": {
          "base_uri": "https://localhost:8080/"
        },
        "id": "GqNPhvfga6qv",
        "outputId": "90c8cb2e-a46d-430a-deb9-09e558841985"
      },
      "execution_count": null,
      "outputs": [
        {
          "output_type": "execute_result",
          "data": {
            "text/plain": [
              "-2.5"
            ]
          },
          "metadata": {},
          "execution_count": 11
        }
      ]
    },
    {
      "cell_type": "code",
      "source": [
        "lista_alphabet = ['a', 'b', 'c', 'd', 'e', 'a']\n",
        "lista_alphabet"
      ],
      "metadata": {
        "colab": {
          "base_uri": "https://localhost:8080/"
        },
        "id": "w_-vnSe3wY25",
        "outputId": "dda61473-a782-4a0e-f702-ba308b897aa1"
      },
      "execution_count": null,
      "outputs": [
        {
          "output_type": "execute_result",
          "data": {
            "text/plain": [
              "['a', 'b', 'c', 'd', 'e', 'a']"
            ]
          },
          "metadata": {},
          "execution_count": 12
        }
      ]
    },
    {
      "cell_type": "code",
      "source": [
        "lista_alphabet.append('f') # l'ajout d'un élément\n",
        "lista_alphabet"
      ],
      "metadata": {
        "colab": {
          "base_uri": "https://localhost:8080/"
        },
        "id": "1mq079GluvYT",
        "outputId": "1a2005c1-195f-46be-ec20-e13b85940a66"
      },
      "execution_count": null,
      "outputs": [
        {
          "output_type": "execute_result",
          "data": {
            "text/plain": [
              "['a', 'b', 'c', 'd', 'e', 'a', 'f']"
            ]
          },
          "metadata": {},
          "execution_count": 13
        }
      ]
    },
    {
      "cell_type": "code",
      "source": [
        "lista_alphabet.count('a') # compte le nombre d'éléments"
      ],
      "metadata": {
        "colab": {
          "base_uri": "https://localhost:8080/"
        },
        "id": "LeVcgq6za6s0",
        "outputId": "ae27eedc-5892-4de2-b507-8bec290f84b0"
      },
      "execution_count": null,
      "outputs": [
        {
          "output_type": "execute_result",
          "data": {
            "text/plain": [
              "2"
            ]
          },
          "metadata": {},
          "execution_count": 14
        }
      ]
    },
    {
      "cell_type": "markdown",
      "source": [
        "# Git"
      ],
      "metadata": {
        "id": "HdYIcncCj3ZS"
      }
    },
    {
      "cell_type": "code",
      "source": [
        "!git init   # ! : command   # /content/.git/ : path"
      ],
      "metadata": {
        "id": "TZhYQ-jhrG9r",
        "colab": {
          "base_uri": "https://localhost:8080/"
        },
        "outputId": "cbb916e0-f545-4f4c-d624-4f89649c7daa"
      },
      "execution_count": 7,
      "outputs": [
        {
          "output_type": "stream",
          "name": "stdout",
          "text": [
            "Reinitialized existing Git repository in /content/.git/\n"
          ]
        }
      ]
    },
    {
      "cell_type": "code",
      "source": [
        "!git add /content/drive/MyDrive/First_Colab_File.ipynb  # ipynb : jupyter file (extension)"
      ],
      "metadata": {
        "id": "FUMX1QcWrHDn"
      },
      "execution_count": 8,
      "outputs": []
    },
    {
      "cell_type": "code",
      "source": [
        "!git status   # To check the current status of your repository(master)"
      ],
      "metadata": {
        "id": "LvWRwFAZ6XiN"
      },
      "execution_count": null,
      "outputs": []
    },
    {
      "cell_type": "code",
      "source": [
        "!git commit -m \"Initial commit at 8pm 24 October - Icon\""
      ],
      "metadata": {
        "id": "IG665z8esNpd"
      },
      "execution_count": null,
      "outputs": []
    },
    {
      "cell_type": "code",
      "source": [
        "# Authentication : email + name\n",
        "!git config --global user.email \"kaisbhir88@gmail.com\"\n",
        "!git config --global user.name \"Kais\""
      ],
      "metadata": {
        "id": "Sx2vUSL6sNsk"
      },
      "execution_count": 12,
      "outputs": []
    },
    {
      "cell_type": "code",
      "source": [
        "!git commit -m \"Second commit\""
      ],
      "metadata": {
        "id": "tuCmOdcPsNu5"
      },
      "execution_count": null,
      "outputs": []
    },
    {
      "cell_type": "code",
      "source": [
        "import numpy\n",
        "numpy.__version__"
      ],
      "metadata": {
        "id": "iho04yK3sN2y"
      },
      "execution_count": null,
      "outputs": []
    },
    {
      "cell_type": "code",
      "source": [
        "!git commit -m \"Initial commit - After numpy\""
      ],
      "metadata": {
        "id": "We0Gz9yLsN5Q"
      },
      "execution_count": null,
      "outputs": []
    },
    {
      "cell_type": "code",
      "source": [],
      "metadata": {
        "id": "ZxawroWQsN8B"
      },
      "execution_count": null,
      "outputs": []
    },
    {
      "cell_type": "code",
      "source": [],
      "metadata": {
        "id": "NdNfryuZrHHg"
      },
      "execution_count": null,
      "outputs": []
    },
    {
      "cell_type": "code",
      "source": [],
      "metadata": {
        "id": "apYJaNZlj9nx"
      },
      "execution_count": null,
      "outputs": []
    }
  ]
}